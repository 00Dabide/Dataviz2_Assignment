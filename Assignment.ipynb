{
 "cells": [
  {
   "cell_type": "code",
   "execution_count": 1,
   "metadata": {},
   "outputs": [
    {
     "data": {
      "text/html": [
       "\n",
       "        <iframe\n",
       "            width=\"100%\"\n",
       "            height=\"650\"\n",
       "            src=\"http://127.0.0.1:8050/\"\n",
       "            frameborder=\"0\"\n",
       "            allowfullscreen\n",
       "            \n",
       "        ></iframe>\n",
       "        "
      ],
      "text/plain": [
       "<IPython.lib.display.IFrame at 0x25cac252650>"
      ]
     },
     "metadata": {},
     "output_type": "display_data"
    }
   ],
   "source": [
    "import dash\n",
    "from dash import html, dcc, Input, Output, Dash\n",
    "import dash_bootstrap_components as dbc\n",
    "import plotly.express as px\n",
    "import pandas as pd\n",
    "from datetime import date\n",
    "\n",
    "# Load Data\n",
    "data = pd.read_csv(\"https://raw.githubusercontent.com/00Dabide/Dataviz2_Assignment/main/Coffee%20Shop%20Sales.csv\")\n",
    "\n",
    "# Creating a unique list for the Locations\n",
    "Store = data.store_location.unique()\n",
    "Store.sort()\n",
    "\n",
    "# Create a list for the mode\n",
    "Mode = [\"Revenue\", \"Quantity\"]\n",
    "# Dictionary interpreter for the mode\n",
    "ModeMeaning = {\"Revenue\" : \"unit_price\", \"Quantity\" : \"transaction_qty\"}\n",
    "\n",
    "App = Dash(__name__)\n",
    "\n",
    "# Defining the layout\n",
    "App.layout = (\n",
    "    html.Div([\n",
    "        # Header Text\n",
    "        html.H1(\"Store sales\", style = {\"fontSize\" : 64, \"textAlign\" : \"center\"}),\n",
    "        \n",
    "        # 1st Selectable: Location\n",
    "        html.Div([\n",
    "            html.Label(\"Select the location: \", style = {\"fontSize\" : 28}),\n",
    "            dcc.Dropdown(id = \"Location\", options = Store, value = \"Astoria\", style = {\"width\" : \"40%\"})]),\n",
    "\n",
    "        # 2nd Selectable: Date\n",
    "        html.Div([\n",
    "            dbc.Row([html.Label(\"Select date range: \", style = {\"fontSize\" : 28})]),\n",
    "            dbc.Row([dcc.DatePickerRange(id = \"Date\", min_date_allowed = date(2023,1,1), max_date_allowed = date(2023,12,31), start_date = date(2023,1,1), end_date = date(2023,12,31))])\n",
    "            ]),\n",
    "\n",
    "        # 3rd Selectable: Mode (Revenue or Quantity Sold)\n",
    "        html.Div([\n",
    "            dbc.Row([html.Label(\"Select mode: \", style = {\"fontSize\" : 28})]),\n",
    "            dbc.Row([dcc.RadioItems(id = \"Mode\", options = Mode, value = \"Revenue\", inline = True)])\n",
    "            ]),\n",
    "        # The Graph!!!\n",
    "        dcc.Graph(id = \"graph\")\n",
    "]))\n",
    "\n",
    "# Defining callback\n",
    "@App.callback(\n",
    "    Output(\"graph\",\"figure\"),\n",
    "    Input(\"Location\", \"value\"),\n",
    "    Input('Date', 'start_date'),\n",
    "    Input('Date', 'end_date'),\n",
    "    Input(\"Mode\", \"value\"))\n",
    "\n",
    "def GetFig(Location,start_date,end_date, Mode):\n",
    "    #Load Data\n",
    "    data = pd.read_csv(\"https://raw.githubusercontent.com/00Dabide/Dataviz2_Assignment/main/Coffee%20Shop%20Sales.csv\")\n",
    "\n",
    "    # Convert to date\n",
    "    data[\"transaction_date\"] = pd.to_datetime(data[\"transaction_date\"])\n",
    "\n",
    "    # Sort the table as it was previously selected\n",
    "    data = data.query(\"store_location == @Location and transaction_date.between(@start_date, @end_date)\")\n",
    "\n",
    "    # Define the Graph\n",
    "    Fig = px.histogram(data, x = \"product_category\"\t, y = ModeMeaning[Mode],\n",
    "                   title = \"Sales\",\n",
    "                   text_auto = True,\n",
    "                   labels = {\"x\" : \"Category\",\n",
    "                             \"y\" : \"Revenue\"},\n",
    "                   template = \"plotly_dark\",\n",
    "                   color_discrete_sequence=['white'],\n",
    "                   height = 400,\n",
    "                   width = 1200)\n",
    "    Fig.update_layout(xaxis_title = \"Category\",\n",
    "                      yaxis_title = Mode)\n",
    "    return Fig\n",
    "\n",
    "App.run()"
   ]
  },
  {
   "cell_type": "code",
   "execution_count": 30,
   "metadata": {},
   "outputs": [
    {
     "data": {
      "text/plain": [
       "'unit_price'"
      ]
     },
     "execution_count": 30,
     "metadata": {},
     "output_type": "execute_result"
    }
   ],
   "source": []
  },
  {
   "cell_type": "code",
   "execution_count": null,
   "metadata": {},
   "outputs": [],
   "source": []
  }
 ],
 "metadata": {
  "kernelspec": {
   "display_name": "base",
   "language": "python",
   "name": "python3"
  },
  "language_info": {
   "codemirror_mode": {
    "name": "ipython",
    "version": 3
   },
   "file_extension": ".py",
   "mimetype": "text/x-python",
   "name": "python",
   "nbconvert_exporter": "python",
   "pygments_lexer": "ipython3",
   "version": "3.11.4"
  }
 },
 "nbformat": 4,
 "nbformat_minor": 2
}
